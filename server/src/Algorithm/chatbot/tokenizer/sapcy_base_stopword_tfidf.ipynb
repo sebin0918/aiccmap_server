{
 "cells": [
  {
   "cell_type": "code",
   "execution_count": null,
   "metadata": {},
   "outputs": [],
   "source": [
    "import re\n",
    "import spacy\n",
    "import pandas as pd\n",
    "from pykospacing import Spacing\n",
    "\n",
    "from spacy.lang.ko import Korean\n",
    "from sklearn.feature_extraction.text import TfidfVectorizer\n",
    "\n",
    "nlp = spacy.load(\"ko_core_news_sm\")"
   ]
  },
  {
   "cell_type": "code",
   "execution_count": null,
   "metadata": {},
   "outputs": [],
   "source": [
    "spacing = Spacing()\n",
    "\n",
    "def preprocessing(text):\n",
    "    text = spacing(text)\n",
    "    text = text.lower()\n",
    "    text = re.sub(r'[^\\w\\s]', '', text)\n",
    "    return text\n",
    "\n",
    "# 불용어 리스트 가져오기\n",
    "def get_stopwords():\n",
    "    stopwords = set()\n",
    "    with open('../../../data/stopwords-ko.txt', 'r', encoding='utf-8') as file:\n",
    "        for line in file:\n",
    "            stopwords.add(line.strip())\n",
    "    return stopwords\n",
    "\n",
    "# 불용어 리스트 가져오기\n",
    "stopwords = get_stopwords()\n",
    "\n",
    "# 형태소 분석 및 불용어 제거 함수\n",
    "def analyze_and_clean(text):\n",
    "    preprocessed_text = preprocessing(text)\n",
    "    doc = nlp(preprocessed_text)\n",
    "    tokens = [token.text for token in doc if token.text not in stopwords]\n",
    "    pos_tags = [(token.text, token.pos_) for token in doc if token.text not in stopwords]   \n",
    "    return ' '.join(tokens), pos_tags"
   ]
  },
  {
   "cell_type": "code",
   "execution_count": null,
   "metadata": {},
   "outputs": [],
   "source": [
    "df = pd.read_csv(r'..\\..\\..\\data\\combined_questions.csv', encoding='cp949')\n",
    "\n",
    "# 데이터프레임의 'feature' 컬럼에 대해 분석 적용\n",
    "# df = df[:100]\n",
    "df['cleaned_feature'], df['pos_tags'] = zip(*df['feature'].apply(analyze_and_clean))"
   ]
  },
  {
   "cell_type": "code",
   "execution_count": null,
   "metadata": {},
   "outputs": [],
   "source": [
    "# 리스트를 문자열로 변환 (불필요할 경우 생략 가능)\n",
    "df['cleaned_feature_str'] = df['cleaned_feature']\n",
    "\n",
    "# 비어 있는 문서 또는 공백만 포함된 문서 제거 및 복사본 생성\n",
    "df_cleaned = df[df['cleaned_feature_str'].apply(lambda x: len(x.strip()) > 0)].copy()\n",
    "\n",
    "# 비어 있는 문서에 'unknown' 추가 (필요한 경우)\n",
    "df_cleaned.loc[df_cleaned['cleaned_feature_str'].apply(lambda x: len(x.strip()) == 0), 'cleaned_feature_str'] = 'unknown'\n",
    "\n",
    "df_cleaned['cleaned_feature_str'] = df_cleaned['cleaned_feature_str'].astype(str)\n",
    "df_cleaned['cleaned_feature_str'].fillna('', inplace=True)\n",
    "\n",
    "# TF-IDF 벡터화\n",
    "vectorizer = TfidfVectorizer()\n",
    "X = vectorizer.fit_transform(df_cleaned['cleaned_feature_str'])\n",
    "\n",
    "# 데이터프레임으로 변환\n",
    "tfidf_df = pd.DataFrame(X.toarray(), columns=vectorizer.get_feature_names_out())"
   ]
  }
 ],
 "metadata": {
  "kernelspec": {
   "display_name": "myenv",
   "language": "python",
   "name": "python3"
  },
  "language_info": {
   "codemirror_mode": {
    "name": "ipython",
    "version": 3
   },
   "file_extension": ".py",
   "mimetype": "text/x-python",
   "name": "python",
   "nbconvert_exporter": "python",
   "pygments_lexer": "ipython3",
   "version": "3.11.9"
  }
 },
 "nbformat": 4,
 "nbformat_minor": 2
}
