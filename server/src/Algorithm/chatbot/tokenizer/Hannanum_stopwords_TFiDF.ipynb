{
 "cells": [
  {
   "cell_type": "code",
   "execution_count": null,
   "id": "f5b95e72",
   "metadata": {},
   "outputs": [],
   "source": [
    "import pandas as pd\n",
    "from konlpy.tag import Hannanum\n",
    "from pykospacing import Spacing\n",
    "from sklearn.feature_extraction.text import TfidfVectorizer"
   ]
  },
  {
   "cell_type": "code",
   "execution_count": null,
   "id": "31bca90b",
   "metadata": {},
   "outputs": [],
   "source": [
    "data = pd.read_csv('../../../data/combined_questions.csv', encoding = 'cp949')\n",
    "\n",
    "# Pykospacing을 통해 전처리 (for문 사용)\n",
    "spacing = Spacing()\n",
    "processed_features = []\n",
    "for feature in data['feature']:\n",
    "    processed_feature = spacing(feature)\n",
    "    processed_features.append(processed_feature)\n",
    "data['feature'] = processed_features\n",
    "\n",
    "# Hannanum 형태소 분석기로 토큰화 (for문 사용)\n",
    "hannanum = Hannanum()\n",
    "tokens = []\n",
    "for feature in data['feature']:\n",
    "    tokenized = hannanum.nouns(feature)\n",
    "    tokens.append(tokenized)\n",
    "data['tokens'] = tokens"
   ]
  },
  {
   "cell_type": "code",
   "execution_count": null,
   "id": "75951391",
   "metadata": {},
   "outputs": [],
   "source": [
    "# 불용어 처리 (for문 사용)\n",
    "with open('../../../data/stopwords-ko.txt', 'r', encoding='utf-8') as file:\n",
    "    stopwords = file.read().splitlines()\n",
    "\n",
    "filtered_tokens = []\n",
    "for token_list in data['tokens']:\n",
    "    filtered = [word for word in token_list if word not in stopwords]\n",
    "    filtered_tokens.append(filtered)\n",
    "data['tokens'] = filtered_tokens"
   ]
  },
  {
   "cell_type": "code",
   "execution_count": null,
   "id": "16eae303",
   "metadata": {},
   "outputs": [],
   "source": [
    "data['tokens_str'] = data['tokens'].apply(lambda x: ' '.join(x))                 # 리스트를 문자열로 변환\n",
    "\n",
    "vectorizer = TfidfVectorizer()                                                   # TfidfVectorizer를 사용하여 TF-IDF 모델 생성\n",
    "\n",
    "X = vectorizer.fit_transform(data['tokens_str'])                                 # 각 문장을 벡터화\n",
    "\n",
    "tfidf_df = pd.DataFrame(X.toarray(), columns=vectorizer.get_feature_names_out()) # 벡터를 데이터프레임으로 변환\n",
    "\n",
    "df_tfidf = pd.concat([data, tfidf_df], axis=1)                                   # 원본 데이터프레임에 벡터화된 특성 추가\n",
    "\n",
    "model.save('Hannanum_TFiDF_model.model')                                         # 모델 저장 (선택 사항)"
   ]
  }
 ],
 "metadata": {
  "kernelspec": {
   "display_name": "Python 3 (ipykernel)",
   "language": "python",
   "name": "python3"
  },
  "language_info": {
   "codemirror_mode": {
    "name": "ipython",
    "version": 3
   },
   "file_extension": ".py",
   "mimetype": "text/x-python",
   "name": "python",
   "nbconvert_exporter": "python",
   "pygments_lexer": "ipython3",
   "version": "3.9.13"
  }
 },
 "nbformat": 4,
 "nbformat_minor": 5
}
