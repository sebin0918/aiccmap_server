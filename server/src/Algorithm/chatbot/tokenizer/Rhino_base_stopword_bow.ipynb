{
 "cells": [
  {
   "cell_type": "code",
   "execution_count": null,
   "metadata": {},
   "outputs": [],
   "source": [
    "import re\n",
    "import pandas as pd\n",
    "from tqdm import tqdm\n",
    "from pykospacing import Spacing\n",
    "\n",
    "import rhinoMorph\n",
    "from sklearn.feature_extraction.text import CountVectorizer\n",
    "\n",
    "# tqdm과 pandas 통합\n",
    "tqdm.pandas()\n",
    "\n",
    "# Rhino 객체 초기화\n",
    "rn = rhinoMorph.startRhino()"
   ]
  },
  {
   "cell_type": "code",
   "execution_count": null,
   "metadata": {},
   "outputs": [],
   "source": [
    "spacing = Spacing()\n",
    "\n",
    "def preprocessing(text):\n",
    "    text = spacing(text)\n",
    "    text = text.lower()\n",
    "    text = re.sub(r'[^\\w\\s]', '', text)\n",
    "    return text\n",
    "\n",
    "# 불용어 리스트 가져오기\n",
    "def get_stopwords():\n",
    "    stopwords = set()\n",
    "    with open('../../../data/stopwords-ko.txt', 'r', encoding='utf-8') as file:\n",
    "        for line in file:\n",
    "            stopwords.add(line.strip())\n",
    "    return stopwords\n",
    "\n",
    "# 형태소 분석 및 불용어 제거 함수\n",
    "def morph_and_remove_stopwords(text, stopwords):\n",
    "    text = preprocessing(text)\n",
    "    morphs = rhinoMorph.onlyMorph_list(rn, text)\n",
    "    meaningful_words = [word for word in morphs if word not in stopwords]\n",
    "    return meaningful_words"
   ]
  },
  {
   "cell_type": "code",
   "execution_count": null,
   "metadata": {},
   "outputs": [],
   "source": [
    "# 불용어 리스트 가져오기\n",
    "stopwords = get_stopwords()\n",
    "\n",
    "df = pd.read_csv(r'..\\..\\..\\data\\combined_questions.csv', encoding='cp949')\n",
    "\n",
    "# 데이터프레임의 'feature' 열에 대해 형태소 분석 및 불용어 제거 적용\n",
    "df['processed_feature'] = df['feature'].apply(lambda x: morph_and_remove_stopwords(x, stopwords))\n",
    "\n",
    "df.head()"
   ]
  },
  {
   "cell_type": "code",
   "execution_count": null,
   "metadata": {},
   "outputs": [],
   "source": [
    "df['processed_feature_str'] = df['processed_feature'].apply(lambda x: ' '.join(x))  # processed_feature를 문자열로 변환\n",
    "\n",
    "vectorizer = CountVectorizer()                                                      # CountVectorizer를 사용하여 BoW 벡터화\n",
    "X = vectorizer.fit_transform(df['processed_feature_str'])\n",
    "bow_df = pd.DataFrame(X.toarray(), columns=vectorizer.get_feature_names_out())      # BoW 결과를 데이터프레임으로 변환\n",
    "\n",
    "df_bow = pd.concat([df, bow_df], axis=1)                                            # 원래 데이터프레임과 BoW 데이터프레임을 병합"
   ]
  }
 ],
 "metadata": {
  "kernelspec": {
   "display_name": "myenv",
   "language": "python",
   "name": "python3"
  },
  "language_info": {
   "codemirror_mode": {
    "name": "ipython",
    "version": 3
   },
   "file_extension": ".py",
   "mimetype": "text/x-python",
   "name": "python",
   "nbconvert_exporter": "python",
   "pygments_lexer": "ipython3",
   "version": "3.11.9"
  }
 },
 "nbformat": 4,
 "nbformat_minor": 2
}
