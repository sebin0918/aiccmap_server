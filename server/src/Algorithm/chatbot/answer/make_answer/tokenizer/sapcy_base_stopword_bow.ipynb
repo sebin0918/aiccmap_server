{
 "cells": [
  {
   "cell_type": "code",
   "execution_count": 1,
   "metadata": {},
   "outputs": [],
   "source": [
    "import re\n",
    "import spacy\n",
    "import pandas as pd\n",
    "\n",
    "from pykospacing import Spacing\n",
    "from sklearn.feature_extraction.text import CountVectorizer\n",
    "\n",
    "# 한국어 모델 로드\n",
    "nlp = spacy.load(\"ko_core_news_sm\")"
   ]
  },
  {
   "cell_type": "code",
   "execution_count": 2,
   "metadata": {},
   "outputs": [],
   "source": [
    "spacing = Spacing()\n",
    "\n",
    "def preprocessing(text):\n",
    "    text = spacing(text)\n",
    "    text = text.lower()\n",
    "    text = re.sub(r'[^\\w\\s]', '', text)\n",
    "    return text\n",
    "\n",
    "# 불용어 리스트 가져오기\n",
    "def get_stopwords():\n",
    "    stopwords = set()\n",
    "    with open('../../../../../data/stopwords-ko.txt', 'r', encoding='utf-8') as file:\n",
    "        for line in file:\n",
    "            stopwords.add(line.strip())\n",
    "    return stopwords\n",
    "\n",
    "# 불용어 리스트 가져오기\n",
    "stopwords = get_stopwords()\n",
    "\n",
    "# 형태소 분석 및 불용어 제거 함수\n",
    "def analyze_and_clean(text):\n",
    "    preprocessed_text = preprocessing(text)\n",
    "    doc = nlp(preprocessed_text)\n",
    "    tokens = [token.text for token in doc if token.text not in stopwords]\n",
    "    pos_tags = [(token.text, token.pos_) for token in doc if token.text not in stopwords]    \n",
    "    return ' '.join(tokens), pos_tags"
   ]
  },
  {
   "cell_type": "code",
   "execution_count": 5,
   "metadata": {},
   "outputs": [],
   "source": [
    "df = pd.read_excel('../../../../../data/filtered_news.xlsx')\n",
    "\n",
    "# df = df[:100]\n",
    "# 공백 문자열을 기본 값으로 대체\n",
    "df['cleaned_feature_str'] = df['feature'].apply(lambda x: ' '.join(x.split()) if x.strip() else 'missing')"
   ]
  },
  {
   "cell_type": "code",
   "execution_count": 6,
   "metadata": {},
   "outputs": [],
   "source": [
    "vectorizer = CountVectorizer(stop_words=None, lowercase=True)\n",
    "X = vectorizer.fit_transform(df['cleaned_feature_str'])                           # BoW 벡터화\n",
    "bow_df = pd.DataFrame(X.toarray(), columns=vectorizer.get_feature_names_out())    # BoW 결과를 데이터프레임으로 변환\n",
    "df_bow = pd.concat([df, bow_df], axis=1)                                          # 원래 데이터프레임과 BoW 데이터프레임을 병합"
   ]
  }
 ],
 "metadata": {
  "kernelspec": {
   "display_name": "myenv",
   "language": "python",
   "name": "python3"
  },
  "language_info": {
   "codemirror_mode": {
    "name": "ipython",
    "version": 3
   },
   "file_extension": ".py",
   "mimetype": "text/x-python",
   "name": "python",
   "nbconvert_exporter": "python",
   "pygments_lexer": "ipython3",
   "version": "3.11.9"
  }
 },
 "nbformat": 4,
 "nbformat_minor": 2
}
