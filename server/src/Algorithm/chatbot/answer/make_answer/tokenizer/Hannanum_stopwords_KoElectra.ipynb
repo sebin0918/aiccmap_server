{
 "cells": [
  {
   "cell_type": "code",
   "execution_count": null,
   "id": "06f41401",
   "metadata": {},
   "outputs": [],
   "source": [
    "import re\n",
    "import pandas as pd\n",
    "from tqdm import tqdm\n",
    "\n",
    "import torch\n",
    "from pykospacing import Spacing\n",
    "from konlpy.tag import Hannanum\n",
    "from transformers import ElectraModel, ElectraTokenizer\n",
    "\n",
    "tqdm.pandas() # tqdm과 pandas 통합"
   ]
  },
  {
   "cell_type": "code",
   "execution_count": null,
   "id": "009c3696",
   "metadata": {},
   "outputs": [],
   "source": [
    "data = pd.read_excel('../../../../../data/filtered_news.xlsx')\n",
    "\n",
    "# Pykospacing을 통해 전처리 (for문 사용)\n",
    "spacing = Spacing()\n",
    "processed_features = []\n",
    "for feature in data['feature']:\n",
    "    processed_feature = spacing(feature)\n",
    "    processed_features.append(processed_feature)\n",
    "data['feature'] = processed_features"
   ]
  },
  {
   "cell_type": "code",
   "execution_count": null,
   "id": "b6dc9e6e",
   "metadata": {},
   "outputs": [],
   "source": [
    "# Hannanum 형태소 분석기로 토큰화 (for문 사용)\n",
    "hannanum = Hannanum()\n",
    "tokens = []\n",
    "for feature in data['feature']:\n",
    "    tokenized = hannanum.nouns(feature)\n",
    "    tokens.append(tokenized)\n",
    "data['tokens'] = tokens"
   ]
  },
  {
   "cell_type": "code",
   "execution_count": null,
   "id": "126cfe19",
   "metadata": {},
   "outputs": [],
   "source": [
    "# 불용어 처리 (for문 사용)\n",
    "with open('../../../../../data/stopwords-ko.txt', 'r', encoding='utf-8') as file:\n",
    "    stopwords = file.read().splitlines()\n",
    "\n",
    "filtered_tokens = []\n",
    "for token_list in data['tokens']:\n",
    "    filtered = [word for word in token_list if word not in stopwords]\n",
    "    filtered_tokens.append(filtered)\n",
    "data['tokens'] = filtered_tokens"
   ]
  },
  {
   "cell_type": "code",
   "execution_count": null,
   "id": "537fad64",
   "metadata": {},
   "outputs": [],
   "source": [
    "# KoELECTRA 토크나이저와 모델을 로드합니다.\n",
    "tokenizer = ElectraTokenizer.from_pretrained('monologg/koelectra-base-v3-discriminator')\n",
    "model = ElectraModel.from_pretrained('monologg/koelectra-base-v3-discriminator')\n",
    "\n",
    "# KoELECTRA 텍스트의 임베딩을 얻는 함수\n",
    "def get_koelectra_embeddings(text):\n",
    "    inputs = tokenizer(text, return_tensors='pt', truncation=True, padding=True)\n",
    "    outputs = model(**inputs)\n",
    "    return outputs.last_hidden_state.mean(dim=1).squeeze().detach().numpy()\n",
    "\n",
    "# 리스트를 문자열로 변환\n",
    "data['tokens_str'] = data['tokens'].apply(lambda x: ' '.join(x))\n",
    "\n",
    "# 각 처리된 피처에 대해 함수를 적용합니다.\n",
    "data['koelectra_embedding'] = data['tokens_str'].progress_apply(get_koelectra_embeddings)\n",
    "\n",
    "# 시각화를 위해 DataFrame으로 변환합니다.\n",
    "koelectra_embeddings_df = pd.DataFrame(data['koelectra_embedding'].tolist())"
   ]
  }
 ],
 "metadata": {
  "kernelspec": {
   "display_name": "Python 3 (ipykernel)",
   "language": "python",
   "name": "python3"
  },
  "language_info": {
   "codemirror_mode": {
    "name": "ipython",
    "version": 3
   },
   "file_extension": ".py",
   "mimetype": "text/x-python",
   "name": "python",
   "nbconvert_exporter": "python",
   "pygments_lexer": "ipython3",
   "version": "3.9.13"
  }
 },
 "nbformat": 4,
 "nbformat_minor": 5
}
