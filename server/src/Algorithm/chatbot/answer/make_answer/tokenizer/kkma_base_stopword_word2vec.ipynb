{
 "cells": [
  {
   "cell_type": "code",
   "execution_count": null,
   "id": "ee22214f-9fb1-46e5-a22d-f6f8e9d27e07",
   "metadata": {},
   "outputs": [],
   "source": [
    "import re\n",
    "import pandas as pd\n",
    "from pykospacing import Spacing\n",
    "\n",
    "from konlpy.tag import Kkma\n",
    "from gensim.models import Word2Vec"
   ]
  },
  {
   "cell_type": "code",
   "execution_count": null,
   "id": "36c9761e-61d5-4de4-984e-970ae8909eb0",
   "metadata": {},
   "outputs": [],
   "source": [
    "spacing = Spacing()\n",
    "\n",
    "def preprocessing(text):\n",
    "    text = text.lower()  \n",
    "    text = re.sub(r'[^\\w\\s]', '', text)  \n",
    "    text = spacing(text)  \n",
    "    return text\n",
    "\n",
    "def get_stopwords():  \n",
    "    stopwords = set()\n",
    "    with open('../../../../../data/stopwords-ko.txt', 'r', encoding='utf-8') as file:\n",
    "        for line in file:\n",
    "            stopwords.add(line.strip())\n",
    "    return stopwords\n",
    "\n",
    "def analyze_and_remove_stopwords(text, stopwords):                                                           # 형태소 분석 및 불용어 제거 함수\n",
    "    text = preprocessing(text)                                                                               # 전처리\n",
    "    kkma = Kkma()                                                                                            # 형태소 분석기 초기화\n",
    "    morphs = kkma.morphs(text)  \n",
    "    meaningful_words = [word for word in morphs if word not in stopwords]                                    # 불용어 제거\n",
    "    return meaningful_words"
   ]
  },
  {
   "cell_type": "code",
   "execution_count": null,
   "id": "742321a6",
   "metadata": {},
   "outputs": [],
   "source": [
    "stopwords = get_stopwords()                                                                                 \n",
    "df = pd.read_excel('../../../../../data/filtered_news.xlsx')\n",
    "\n",
    "df['processed_feature'] = df['feature'].apply(lambda x: analyze_and_remove_stopwords(x, stopwords))          # 'feature' 열에 대해 형태소 분석 및 불용어 제거 "
   ]
  },
  {
   "cell_type": "code",
   "execution_count": null,
   "id": "16112421-f408-4f46-b309-983d574859eb",
   "metadata": {},
   "outputs": [],
   "source": [
    "model = Word2Vec(df['processed_feature'], vector_size=100, window=5, min_count=1, workers=4,sg=1)            # Word2Vec 모델 학습\n",
    "  \n",
    "# 각 단어의 벡터를 데이터프레임에 추가하는 함수\n",
    "def get_feature_vector(words, model):\n",
    "    vector = [model.wv[word] for word in words if word in model.wv]\n",
    "    return sum(vector) / len(vector) if vector else [0] * model.vector_size\n",
    "\n",
    "# 데이터프레임에 feature_vector 열 추가\n",
    "df['feature_vector'] = df['processed_feature'].apply(lambda x: get_feature_vector(x, model))"
   ]
  }
 ],
 "metadata": {
  "kernelspec": {
   "display_name": "map_ai",
   "language": "python",
   "name": "python3"
  },
  "language_info": {
   "codemirror_mode": {
    "name": "ipython",
    "version": 3
   },
   "file_extension": ".py",
   "mimetype": "text/x-python",
   "name": "python",
   "nbconvert_exporter": "python",
   "pygments_lexer": "ipython3",
   "version": "3.11.9"
  }
 },
 "nbformat": 4,
 "nbformat_minor": 5
}
