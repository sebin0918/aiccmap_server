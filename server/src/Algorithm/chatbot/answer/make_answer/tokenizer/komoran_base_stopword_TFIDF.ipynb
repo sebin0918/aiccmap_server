{
 "cells": [
  {
   "cell_type": "code",
   "execution_count": null,
   "id": "ea1cfb82-85f8-4fb7-a667-bd731f425213",
   "metadata": {},
   "outputs": [],
   "source": [
    "# 라이브러리 불러오기 및 함수화\n",
    "import re\n",
    "import pandas as pd\n",
    "\n",
    "from math import log  # IDF 계산을 위해 필요\n",
    "from konlpy.tag import Komoran\n",
    "from pykospacing import Spacing\n",
    "from sklearn.feature_extraction.text import CountVectorizer\n",
    "from sklearn.feature_extraction.text import TfidfVectorizer\n",
    "\n",
    "komoran = Komoran()\n",
    "spacing = Spacing()"
   ]
  },
  {
   "cell_type": "code",
   "execution_count": null,
   "id": "d7ceb416",
   "metadata": {},
   "outputs": [],
   "source": [
    "df = pd.read_excel('../../../../../data/filtered_news.xlsx')\n",
    "# df = df[:][0:100]\n",
    "\n",
    "# 기본 불용어 불러오기\n",
    "korean_stopwords_path = '../../../../../data/stopwords-ko.txt'\n",
    "with open(korean_stopwords_path, encoding='utf8') as f:\n",
    "    stopwords = f.readlines()\n",
    "stopwords = [x.strip() for x in stopwords]"
   ]
  },
  {
   "cell_type": "code",
   "execution_count": null,
   "id": "3136a9da",
   "metadata": {},
   "outputs": [],
   "source": [
    "# 텍스트 전처리 함수\n",
    "def preprocessing(text):\n",
    "    text = spacing(text)\n",
    "    text = text.lower()\n",
    "    text = re.sub(r'[^\\w\\s]', '', text)\n",
    "    return text\n",
    "\n",
    "# komoran토큰화 &불용어 처리 함수\n",
    "def remove_stopwords(text, stopwords):\n",
    "    tokens = []\n",
    "    morphs = komoran.morphs(text)\n",
    "    for token in morphs:\n",
    "        if token not in stopwords:\n",
    "            tokens.append(token)\n",
    "    return tokens\n",
    "\n",
    "# 텍스트 전처리 및 토큰화, 불용어 처리\n",
    "cleaned_data = []\n",
    "for i in range(len(df)):\n",
    "    feature_text = df.loc[i, 'feature']\n",
    "    processed_text = preprocessing(feature_text)\n",
    "    cleaned_text = remove_stopwords(processed_text, stopwords)\n",
    "    cleaned_text = ' '.join(cleaned_text)\n",
    "    cleaned_data.append(cleaned_text)\n",
    "df['cleaned'] = cleaned_data"
   ]
  },
  {
   "cell_type": "code",
   "execution_count": null,
   "id": "1b33d0e9",
   "metadata": {},
   "outputs": [],
   "source": [
    "# 사이킷런을 이용한 TF-IDF\n",
    "vectorizer = TfidfVectorizer()\n",
    "tfidf_matrix = vectorizer.fit_transform(df['cleaned'])\n",
    "vector_text = tfidf_matrix.toarray().tolist()\n",
    "df['vectored'] = vector_text"
   ]
  }
 ],
 "metadata": {
  "kernelspec": {
   "display_name": "projectM3",
   "language": "python",
   "name": "python3"
  },
  "language_info": {
   "codemirror_mode": {
    "name": "ipython",
    "version": 3
   },
   "file_extension": ".py",
   "mimetype": "text/x-python",
   "name": "python",
   "nbconvert_exporter": "python",
   "pygments_lexer": "ipython3",
   "version": "3.11.9"
  }
 },
 "nbformat": 4,
 "nbformat_minor": 5
}
