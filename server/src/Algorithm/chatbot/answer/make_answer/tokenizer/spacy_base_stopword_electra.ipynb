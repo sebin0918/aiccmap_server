{
 "cells": [
  {
   "cell_type": "code",
   "execution_count": null,
   "metadata": {},
   "outputs": [],
   "source": [
    "import re\n",
    "import numpy as np\n",
    "import pandas as pd\n",
    "from tqdm import tqdm\n",
    "from pykospacing import Spacing\n",
    "\n",
    "import torch\n",
    "import spacy\n",
    "from transformers import ElectraModel, ElectraTokenizer\n",
    "\n",
    "nlp = spacy.load(\"ko_core_news_sm\")  # 한국어 모델 로드\n",
    "tqdm.pandas()                        # tqdm과 pandas 통합"
   ]
  },
  {
   "cell_type": "code",
   "execution_count": 6,
   "metadata": {},
   "outputs": [],
   "source": [
    "# 불용어 파일 로드\n",
    "stopwords_file = '../../../../../data/stopwords-ko.txt'\n",
    "with open(stopwords_file, 'r', encoding='utf-8') as f:\n",
    "    stopwords = set(line.strip() for line in f if line.strip())\n",
    "\n",
    "# 불용어 처리 함수 정의\n",
    "def remove_stopwords(text, stopwords):\n",
    "    doc = nlp(text)\n",
    "    filtered_tokens = [token.text for token in doc if token.text not in stopwords and not token.is_punct and not token.is_space]\n",
    "    return filtered_tokens\n",
    "\n",
    "\n",
    "spacing = Spacing()\n",
    "\n",
    "def preprocessing(text):\n",
    "    text = spacing(text)\n",
    "    text = text.lower()\n",
    "    text = re.sub(r'[^\\w\\s]', '', text)\n",
    "    return text\n",
    "\n",
    "# 텍스트의 임베딩을 얻는 함수\n",
    "def get_koelectra_embeddings(text):\n",
    "    inputs = tokenizer(text, return_tensors='pt', truncation=True, padding=True)\n",
    "    outputs = model(**inputs)\n",
    "    return outputs.last_hidden_state.mean(dim=1).squeeze().detach().numpy()"
   ]
  },
  {
   "cell_type": "code",
   "execution_count": null,
   "metadata": {},
   "outputs": [],
   "source": [
    "df = pd.read_excel('../../../../../data/filtered_news.xlsx')\n",
    "\n",
    "# 데이터 전처리 및 토큰화\n",
    "df = df[:100]\n",
    "df['cleaned'] = df['feature'].apply(lambda x: remove_stopwords(preprocessing(x), stopwords))"
   ]
  },
  {
   "cell_type": "code",
   "execution_count": 9,
   "metadata": {},
   "outputs": [],
   "source": [
    "# KoELECTRA 토크나이저와 모델을 로드합니다.\n",
    "tokenizer = ElectraTokenizer.from_pretrained('monologg/koelectra-base-v3-discriminator')\n",
    "model = ElectraModel.from_pretrained('monologg/koelectra-base-v3-discriminator')\n",
    "\n",
    "\n",
    "# 각 처리된 피처에 대해 함수를 적용합니다..\n",
    "df['cleaned_text'] = df['cleaned'].apply(lambda x: ' '.join(x))\n",
    "df['koelectra_embedding'] = df['cleaned_text'].apply(get_koelectra_embeddings)\n",
    "\n",
    "\n",
    "# 시각화를 위해 DataFrame으로 변환합니다.\n",
    "koelectra_embeddings_df = pd.DataFrame(df['koelectra_embedding'].tolist())"
   ]
  }
 ],
 "metadata": {
  "kernelspec": {
   "display_name": "myenv",
   "language": "python",
   "name": "python3"
  },
  "language_info": {
   "codemirror_mode": {
    "name": "ipython",
    "version": 3
   },
   "file_extension": ".py",
   "mimetype": "text/x-python",
   "name": "python",
   "nbconvert_exporter": "python",
   "pygments_lexer": "ipython3",
   "version": "3.11.9"
  }
 },
 "nbformat": 4,
 "nbformat_minor": 2
}
