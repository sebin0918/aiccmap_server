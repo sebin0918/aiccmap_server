{
 "cells": [
  {
   "cell_type": "code",
   "execution_count": null,
   "id": "ea1cfb82-85f8-4fb7-a667-bd731f425213",
   "metadata": {},
   "outputs": [],
   "source": [
    "# 라이브러리 불러오기 및 함수화\n",
    "import re\n",
    "import pandas as pd\n",
    "from tqdm import tqdm\n",
    "\n",
    "import torch\n",
    "from konlpy.tag import Komoran\n",
    "from pykospacing import Spacing\n",
    "from transformers import ElectraTokenizer, ElectraModel\n",
    "\n",
    "komoran = Komoran()\n",
    "spacing = Spacing()\n",
    "\n",
    "tqdm.pandas()"
   ]
  },
  {
   "cell_type": "code",
   "execution_count": null,
   "id": "91096f02-9fdf-41da-9dd0-8830f1c56863",
   "metadata": {},
   "outputs": [],
   "source": [
    "df = pd.read_excel('../../../../../data/filtered_news.xlsx')\n",
    "\n",
    "# 기본 불용어 불러오기\n",
    "korean_stopwords_path = '../../../../../data/stopwords-ko.txt'\n",
    "with open(korean_stopwords_path, encoding='utf8') as f:\n",
    "    stopwords = f.readlines()\n",
    "stopwords = [x.strip() for x in stopwords]"
   ]
  },
  {
   "cell_type": "code",
   "execution_count": null,
   "id": "028cbb0f",
   "metadata": {},
   "outputs": [],
   "source": [
    "# 띄어쓰기, 대소문자 보정 함수\n",
    "def preprocessing(text):\n",
    "    text = spacing(text)\n",
    "    text = text.lower()\n",
    "    text = re.sub(r'[^\\w\\s]', '', text)\n",
    "    return text\n",
    "\n",
    "# komoran토큰화 & 불용어 처리 함수\n",
    "def remove_stopwords(text, stopwords):\n",
    "    tokens = []\n",
    "    morphs = komoran.morphs(text)\n",
    "    for token in morphs:\n",
    "        if token not in stopwords:\n",
    "            tokens.append(token)\n",
    "    return tokens\n",
    "\n",
    "# 벡터화 함수\n",
    "def text_to_vector(text):\n",
    "    \n",
    "    # 시퀀스 길이를 같게 하기 위해 패딩 추가  #길이가 긴 시퀀스는 잘라냄  # PyTorch 텐서로 반환\n",
    "    tokenized_inputs = tokenizer(text, padding=True, truncation=True, return_tensors=\"pt\")\n",
    "\n",
    "    # 모델에 입력하여 출력 벡터 얻기\n",
    "    with torch.no_grad():\n",
    "        outputs = model(**tokenized_inputs)\n",
    "    cls_vector = outputs.last_hidden_state[0][0].numpy()  # [CLS] 토큰에 대한 벡터 추출\n",
    "    return cls_vector"
   ]
  },
  {
   "cell_type": "code",
   "execution_count": null,
   "id": "c5c94fe1",
   "metadata": {},
   "outputs": [],
   "source": [
    "# 문장 전처리 및 형태소 분리, 불용어 처리\n",
    "cleaned_data = []\n",
    "for i in range(len(df)):\n",
    "    feature_text = df.loc[i, 'feature']\n",
    "    processed_text = preprocessing(feature_text)\n",
    "    cleaned_text = remove_stopwords(processed_text, stopwords)\n",
    "    cleaned_data.append(cleaned_text)\n",
    "df['cleaned'] = cleaned_data\n",
    "\n",
    "# KoElectra를 통한 벡터화\n",
    "tokenizer = ElectraTokenizer.from_pretrained(\"monologg/koelectra-base-v3-discriminator\")\n",
    "model = ElectraModel.from_pretrained(\"monologg/koelectra-base-v3-discriminator\")\n",
    "df['vector'] = df['cleaned'].apply(text_to_vector)"
   ]
  }
 ],
 "metadata": {
  "kernelspec": {
   "display_name": "projectM",
   "language": "python",
   "name": "python3"
  },
  "language_info": {
   "codemirror_mode": {
    "name": "ipython",
    "version": 3
   },
   "file_extension": ".py",
   "mimetype": "text/x-python",
   "name": "python",
   "nbconvert_exporter": "python",
   "pygments_lexer": "ipython3",
   "version": "3.11.9"
  }
 },
 "nbformat": 4,
 "nbformat_minor": 5
}
