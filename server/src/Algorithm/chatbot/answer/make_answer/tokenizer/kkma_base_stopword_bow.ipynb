{
 "cells": [
  {
   "cell_type": "code",
   "execution_count": 1,
   "id": "ee22214f-9fb1-46e5-a22d-f6f8e9d27e07",
   "metadata": {},
   "outputs": [],
   "source": [
    "import re\n",
    "import pandas as pd\n",
    "from pykospacing import Spacing\n",
    "\n",
    "from konlpy.tag import Kkma\n",
    "from sklearn.feature_extraction.text import CountVectorizer"
   ]
  },
  {
   "cell_type": "code",
   "execution_count": 4,
   "id": "36c9761e-61d5-4de4-984e-970ae8909eb0",
   "metadata": {},
   "outputs": [],
   "source": [
    "spacing = Spacing()\n",
    "\n",
    "def preprocessing(text):                                                                # CountVectorizer는 문장 형태로 가져와야 함.\n",
    "    return text\n",
    "\n",
    "def get_stopwords():                                                                    # 불용어 리스트 가져오기\n",
    "    stopwords = set()\n",
    "    with open('../../../../../data/stopwords-ko.txt', 'r', encoding='utf-8') as file:\n",
    "        for line in file:\n",
    "            stopwords.add(line.strip())\n",
    "    return stopwords\n",
    "\n",
    "def morph_and_remove_stopwords(text, stopwords):                                        # 형태소 분석 및 불용어 제거 함수\n",
    "    text = preprocessing(text)                                                          # 전처리\n",
    "    kkma = Kkma()                                                                       # Kkma 형태소 분석기 초기화\n",
    "    morphs = kkma.morphs(text)\n",
    "    meaningful_words = [word for word in morphs if word not in stopwords]               # 불용어 제거\n",
    "    return meaningful_words"
   ]
  },
  {
   "cell_type": "code",
   "execution_count": 6,
   "id": "7153617c-b58d-406e-9601-1b3fae44f06e",
   "metadata": {},
   "outputs": [],
   "source": [
    "stopwords = get_stopwords()                                                             # 불용어 리스트 가져오기\n",
    "df = pd.read_excel('../../../../../data/filtered_news.xlsx')             # 분석할 파일 불러오기.\n",
    "# df = df[:100]\n",
    "# 데이터프레임의 'feature' 열에 대해 형태소 분석 및 불용어 제거 적용\n",
    "df['processed_feature'] = df['feature'].apply(lambda x: ' '.join(morph_and_remove_stopwords(x, stopwords)))"
   ]
  },
  {
   "cell_type": "code",
   "execution_count": 7,
   "id": "16112421-f408-4f46-b309-983d574859eb",
   "metadata": {},
   "outputs": [],
   "source": [
    "vectorizer = CountVectorizer() \n",
    "\n",
    "X = vectorizer.fit_transform(df['processed_feature'])\n",
    "\n",
    "bow_df = pd.DataFrame(X.toarray(), columns=vectorizer.get_feature_names_out())\n",
    "df_bow = pd.concat([df, bow_df], axis=1)                                                # 원본 데이터프레임에 벡터화된 특성 추가"
   ]
  }
 ],
 "metadata": {
  "kernelspec": {
   "display_name": "map_ai",
   "language": "python",
   "name": "python3"
  },
  "language_info": {
   "codemirror_mode": {
    "name": "ipython",
    "version": 3
   },
   "file_extension": ".py",
   "mimetype": "text/x-python",
   "name": "python",
   "nbconvert_exporter": "python",
   "pygments_lexer": "ipython3",
   "version": "3.11.9"
  }
 },
 "nbformat": 4,
 "nbformat_minor": 5
}
