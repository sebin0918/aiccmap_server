{
 "cells": [
  {
   "cell_type": "code",
   "execution_count": null,
   "metadata": {},
   "outputs": [],
   "source": [
    "import re\n",
    "import numpy as np\n",
    "import pandas as pd\n",
    "from pykospacing import Spacing\n",
    "\n",
    "import spacy\n",
    "import rhinoMorph\n",
    "from gensim.models import Word2Vec\n",
    "\n",
    "rn = rhinoMorph.startRhino()"
   ]
  },
  {
   "cell_type": "code",
   "execution_count": null,
   "metadata": {},
   "outputs": [],
   "source": [
    "spacing = Spacing()\n",
    "\n",
    "def preprocessing(text):\n",
    "    text = spacing(text)\n",
    "    text = text.lower()\n",
    "    text = re.sub(r'[^\\w\\s]', '', text)\n",
    "    return text\n",
    "\n",
    "# 불용어 리스트 가져오기\n",
    "def get_stopwords():\n",
    "    stopwords = set()\n",
    "    with open('../../../../../data/stopwords-ko.txt', 'r', encoding='utf-8') as file:\n",
    "        for line in file:\n",
    "            stopwords.add(line.strip())\n",
    "    return stopwords\n",
    "\n",
    "# 불용어 리스트 가져오기\n",
    "stopwords = get_stopwords()\n",
    "\n",
    "# 형태소 분석 및 불용어 제거 함수\n",
    "def morph_and_remove_stopwords(text, stopwords):\n",
    "    text = preprocessing(text)\n",
    "    morphs = rhinoMorph.onlyMorph_list(rn, text)\n",
    "    meaningful_words = [word for word in morphs if word not in stopwords]\n",
    "    return meaningful_words\n",
    "\n",
    "# 문서 벡터화 함수\n",
    "def get_document_vector(tokens, model):\n",
    "    word_vectors = [model.wv[token] for token in tokens if token in model.wv]\n",
    "    if not word_vectors:\n",
    "        return np.zeros(model.vector_size)\n",
    "    return np.mean(word_vectors, axis=0)"
   ]
  },
  {
   "cell_type": "code",
   "execution_count": null,
   "metadata": {},
   "outputs": [],
   "source": [
    "df = pd.read_excel('../../../../../data/filtered_news.xlsx')\n",
    "\n",
    "# 데이터프레임의 'feature' 열에 대해 형태소 분석 및 불용어 제거 적용\n",
    "df['processed_feature'] = df['feature'].apply(lambda x: morph_and_remove_stopwords(x, stopwords))"
   ]
  },
  {
   "cell_type": "code",
   "execution_count": null,
   "metadata": {},
   "outputs": [],
   "source": [
    "# Word2Vec 모델 학습\n",
    "model = Word2Vec(sentences=df['processed_feature'], vector_size=100, window=4, hs=1, min_count=2, sg=1)\n",
    "\n",
    "# 문서 벡터화\n",
    "df['vector'] = df['processed_feature'].apply(lambda x: get_document_vector(x, model))"
   ]
  }
 ],
 "metadata": {
  "kernelspec": {
   "display_name": "myenv",
   "language": "python",
   "name": "python3"
  },
  "language_info": {
   "codemirror_mode": {
    "name": "ipython",
    "version": 3
   },
   "file_extension": ".py",
   "mimetype": "text/x-python",
   "name": "python",
   "nbconvert_exporter": "python",
   "pygments_lexer": "ipython3",
   "version": "3.11.9"
  }
 },
 "nbformat": 4,
 "nbformat_minor": 2
}
