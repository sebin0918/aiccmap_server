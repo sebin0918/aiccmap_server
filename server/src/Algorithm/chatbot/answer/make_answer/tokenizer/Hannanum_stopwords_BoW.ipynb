{
 "cells": [
  {
   "cell_type": "code",
   "execution_count": 1,
   "id": "f5b95e72",
   "metadata": {},
   "outputs": [],
   "source": [
    "import pandas as pd\n",
    "from konlpy.tag import Hannanum\n",
    "from pykospacing import Spacing\n",
    "from sklearn.feature_extraction.text import CountVectorizer"
   ]
  },
  {
   "cell_type": "code",
   "execution_count": null,
   "id": "4c38abd7",
   "metadata": {
    "scrolled": true
   },
   "outputs": [],
   "source": [
    "data = pd.read_excel('../../../../../data/filtered_news.xlsx')\n",
    "# data = data[:100]\n",
    "\n",
    "spacing = Spacing()\n",
    "processed_features = []\n",
    "for feature in data['feature']:\n",
    "    processed_feature = spacing(feature)\n",
    "    processed_features.append(processed_feature)\n",
    "data['feature'] = processed_features"
   ]
  },
  {
   "cell_type": "code",
   "execution_count": 5,
   "id": "761a0465",
   "metadata": {},
   "outputs": [],
   "source": [
    "# Hannanum 형태소 분석기로 토큰화 (for문 사용)\n",
    "hannanum = Hannanum()\n",
    "tokens = []\n",
    "for feature in data['feature']:\n",
    "    tokenized = hannanum.nouns(feature)\n",
    "    tokens.append(tokenized)\n",
    "data['tokens'] = tokens"
   ]
  },
  {
   "cell_type": "code",
   "execution_count": null,
   "id": "75951391",
   "metadata": {},
   "outputs": [],
   "source": [
    "# 불용어 처리 (for문 사용)\n",
    "with open('../../../../../data/stopwords-ko.txt', 'r', encoding='utf-8') as file:\n",
    "    stopwords = file.read().splitlines()\n",
    "\n",
    "filtered_tokens = []\n",
    "for token_list in data['tokens']:\n",
    "    filtered = [word for word in token_list if word not in stopwords]\n",
    "    filtered_tokens.append(filtered)\n",
    "data['tokens'] = filtered_tokens"
   ]
  },
  {
   "cell_type": "code",
   "execution_count": 7,
   "id": "0ac18640",
   "metadata": {},
   "outputs": [],
   "source": [
    "data['tokens_str'] = data['tokens'].apply(lambda x: ' '.join(x))               # 리스트를 문자열로 변환\n",
    "\n",
    "vectorizer = CountVectorizer()                                                 # CountVectorizer를 사용하여 BoW 모델 생성\n",
    "X = vectorizer.fit_transform(data['tokens_str'])\n",
    "\n",
    "bow_df = pd.DataFrame(X.toarray(), columns=vectorizer.get_feature_names_out()) # BoW 결과를 데이터프레임으로 변환\n",
    "\n",
    "df_bow = pd.concat([data, bow_df], axis=1)                                     # 원래 데이터프레임과 BoW 데이터프레임을 병합"
   ]
  }
 ],
 "metadata": {
  "kernelspec": {
   "display_name": "Python 3 (ipykernel)",
   "language": "python",
   "name": "python3"
  },
  "language_info": {
   "codemirror_mode": {
    "name": "ipython",
    "version": 3
   },
   "file_extension": ".py",
   "mimetype": "text/x-python",
   "name": "python",
   "nbconvert_exporter": "python",
   "pygments_lexer": "ipython3",
   "version": "3.11.9"
  }
 },
 "nbformat": 4,
 "nbformat_minor": 5
}
