{
 "cells": [
  {
   "cell_type": "code",
   "execution_count": null,
   "metadata": {},
   "outputs": [],
   "source": [
    "import re\n",
    "\n",
    "import numpy as np\n",
    "import pandas as pd\n",
    "from tqdm import tqdm\n",
    "from pykospacing import Spacing\n",
    "\n",
    "import spacy\n",
    "from gensim.models import Word2Vec\n",
    "\n",
    "nlp = spacy.load(\"ko_core_news_sm\")  # 한국어 모델 로드\n",
    "tqdm.pandas()                        # tqdm과 pandas 통합"
   ]
  },
  {
   "cell_type": "code",
   "execution_count": null,
   "metadata": {},
   "outputs": [],
   "source": [
    "# 불용어 파일 로드\n",
    "stopwords_file = '../../../../../data/stopwords-ko.txt'\n",
    "with open(stopwords_file, 'r', encoding='utf-8') as f:\n",
    "    stopwords = set(line.strip() for line in f if line.strip())\n",
    "\n",
    "# 불용어 처리 함수 정의\n",
    "def remove_stopwords(text, stopwords):\n",
    "    doc = nlp(text)\n",
    "    filtered_tokens = [token.text for token in doc if token.text not in stopwords and not token.is_punct and not token.is_space]\n",
    "    return filtered_tokens\n",
    "\n",
    "spacing = Spacing()\n",
    "\n",
    "def preprocessing(text):\n",
    "    text = spacing(text)\n",
    "    text = text.lower()\n",
    "    text = re.sub(r'[^\\w\\s]', '', text)\n",
    "    return text\n",
    "\n",
    "# 문서 벡터화 함수\n",
    "def get_document_vector(tokens, model):\n",
    "    word_vectors = [model.wv[token] for token in tokens if token in model.wv]\n",
    "    if not word_vectors:\n",
    "        return np.zeros(model.vector_size)\n",
    "    return np.mean(word_vectors, axis=0)"
   ]
  },
  {
   "cell_type": "code",
   "execution_count": null,
   "metadata": {},
   "outputs": [],
   "source": [
    "df = pd.read_excel('../../../../../data/filtered_news.xlsx')\n",
    "\n",
    "# 데이터 전처리 및 토큰화\n",
    "# df = df[:10]\n",
    "df['cleaned'] = df['feature'].apply(lambda x: remove_stopwords(preprocessing(x), stopwords))\n",
    "\n",
    "# Word2Vec 모델 학습\n",
    "model = Word2Vec(sentences=df['cleaned'], vector_size=100, window=4, hs=1, min_count=2, sg=1)\n",
    "\n",
    "# 문서 벡터화\n",
    "df['vector'] = df['cleaned'].apply(lambda x: get_document_vector(x, model))"
   ]
  }
 ],
 "metadata": {
  "kernelspec": {
   "display_name": "myenv",
   "language": "python",
   "name": "python3"
  },
  "language_info": {
   "codemirror_mode": {
    "name": "ipython",
    "version": 3
   },
   "file_extension": ".py",
   "mimetype": "text/x-python",
   "name": "python",
   "nbconvert_exporter": "python",
   "pygments_lexer": "ipython3",
   "version": "3.11.9"
  }
 },
 "nbformat": 4,
 "nbformat_minor": 2
}
