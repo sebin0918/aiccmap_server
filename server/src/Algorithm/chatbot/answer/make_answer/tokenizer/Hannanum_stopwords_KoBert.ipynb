{
 "cells": [
  {
   "cell_type": "code",
   "execution_count": null,
   "id": "02994983",
   "metadata": {},
   "outputs": [],
   "source": [
    "import re\n",
    "import pandas as pd\n",
    "from tqdm import tqdm\n",
    "\n",
    "import torch\n",
    "from pykospacing import Spacing\n",
    "from konlpy.tag import Hannanum\n",
    "from transformers import BertTokenizer, BertModel\n",
    "\n",
    "tqdm.pandas() # tqdm과 pandas 통합"
   ]
  },
  {
   "cell_type": "code",
   "execution_count": null,
   "id": "e8d501ea",
   "metadata": {},
   "outputs": [],
   "source": [
    "data = pd.read_excel('../../../../../data/filtered_news.xlsx')\n",
    "\n",
    "# Pykospacing을 통해 전처리 (for문 사용)\n",
    "spacing = Spacing()\n",
    "processed_features = []\n",
    "for feature in data['feature']:\n",
    "    processed_feature = spacing(feature)\n",
    "    processed_features.append(processed_feature)\n",
    "data['feature'] = processed_features"
   ]
  },
  {
   "cell_type": "code",
   "execution_count": null,
   "id": "c4cd20d6",
   "metadata": {},
   "outputs": [],
   "source": [
    "# Hannanum 형태소 분석기로 토큰화 (for문 사용)\n",
    "hannanum = Hannanum()\n",
    "tokens = []\n",
    "for feature in data['feature']:\n",
    "    tokenized = hannanum.nouns(feature)\n",
    "    tokens.append(tokenized)\n",
    "data['tokens'] = tokens\n",
    "\n",
    "# 불용어 처리 (for문 사용)\n",
    "with open('../../../../../data/stopwords-ko.txt', 'r', encoding='utf-8') as file:\n",
    "    stopwords = file.read().splitlines()\n",
    "\n",
    "filtered_tokens = []\n",
    "for token_list in data['tokens']:\n",
    "    filtered = [word for word in token_list if word not in stopwords]\n",
    "    filtered_tokens.append(filtered)\n",
    "data['tokens'] = filtered_tokens"
   ]
  },
  {
   "cell_type": "code",
   "execution_count": null,
   "id": "aa63e42d",
   "metadata": {},
   "outputs": [],
   "source": [
    "# KoBERT 모델과 토크나이저 불러오기\n",
    "tokenizer = BertTokenizer.from_pretrained('monologg/kobert')\n",
    "model = BertModel.from_pretrained('monologg/kobert')\n",
    "\n",
    "# KoBERT 함수 정의\n",
    "def text_to_vector(text):\n",
    "    inputs = tokenizer(text, return_tensors='pt')\n",
    "    with torch.no_grad():\n",
    "        outputs = model(**inputs)\n",
    "        \n",
    "    cls_vector = outputs.last_hidden_state[0][0].numpy()\n",
    "    return cls_vector\n",
    "\n",
    "# 리스트를 문자열로 변환\n",
    "data['tokens_str'] = data['tokens'].apply(lambda x: ' '.join(x))\n",
    "\n",
    "# 텍스트를 벡터로 변환하여 데이터프레임에 추가\n",
    "data['vector'] = data['tokens_str'].progress_apply(text_to_vector)"
   ]
  }
 ],
 "metadata": {
  "kernelspec": {
   "display_name": "Python 3 (ipykernel)",
   "language": "python",
   "name": "python3"
  },
  "language_info": {
   "codemirror_mode": {
    "name": "ipython",
    "version": 3
   },
   "file_extension": ".py",
   "mimetype": "text/x-python",
   "name": "python",
   "nbconvert_exporter": "python",
   "pygments_lexer": "ipython3",
   "version": "3.9.13"
  }
 },
 "nbformat": 4,
 "nbformat_minor": 5
}
