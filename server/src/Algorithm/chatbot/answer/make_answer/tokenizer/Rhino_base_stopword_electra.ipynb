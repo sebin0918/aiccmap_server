{
 "cells": [
  {
   "cell_type": "code",
   "execution_count": null,
   "metadata": {},
   "outputs": [],
   "source": [
    "import pandas as pd\n",
    "from tqdm import tqdm\n",
    "from pykospacing import Spacing\n",
    "\n",
    "import re\n",
    "import torch\n",
    "import rhinoMorph\n",
    "from transformers import ElectraModel, ElectraTokenizer\n",
    "\n",
    "tqdm.pandas()                  # tqdm과 pandas 통합\n",
    "\n",
    "rn = rhinoMorph.startRhino()   # Rhino 객체 초기화"
   ]
  },
  {
   "cell_type": "code",
   "execution_count": null,
   "metadata": {},
   "outputs": [],
   "source": [
    "spacing = Spacing()\n",
    "\n",
    "def preprocessing(text):\n",
    "    text = spacing(text)\n",
    "    text = text.lower()\n",
    "    text = re.sub(r'[^\\w\\s]', '', text)\n",
    "    return text\n",
    "\n",
    "# 불용어 리스트 가져오기\n",
    "def get_stopwords():\n",
    "    stopwords = set()\n",
    "    with open('../../../../../data/stopwords-ko.txt', 'r', encoding='utf-8') as file:\n",
    "        for line in file:\n",
    "            stopwords.add(line.strip())\n",
    "    return stopwords\n",
    "\n",
    "# 형태소 분석 및 불용어 제거 함수\n",
    "def morph_and_remove_stopwords(text, stopwords):\n",
    "    text = preprocessing(text)\n",
    "    morphs = rhinoMorph.onlyMorph_list(rn, text)\n",
    "    meaningful_words = [word for word in morphs if word not in stopwords]\n",
    "    return meaningful_words"
   ]
  },
  {
   "cell_type": "code",
   "execution_count": null,
   "metadata": {},
   "outputs": [],
   "source": [
    "# 불용어 리스트 가져오기\n",
    "stopwords = get_stopwords()\n",
    "\n",
    "df = pd.read_excel('../../../../../data/filtered_news.xlsx')\n",
    "\n",
    "# 형태소 분석 및 불용어 제거를 통해 'processed_feature' 열 생성\n",
    "df['processed_feature'] = df['feature'].progress_apply(lambda x: morph_and_remove_stopwords(x, stopwords))\n",
    "\n",
    "# 리스트를 문자열로 변환\n",
    "df['processed_feature_str'] = df['processed_feature'].apply(lambda x: ' '.join(x))"
   ]
  },
  {
   "cell_type": "code",
   "execution_count": null,
   "metadata": {},
   "outputs": [],
   "source": [
    "# KoELECTRA 토크나이저와 모델을 로드합니다.\n",
    "tokenizer = ElectraTokenizer.from_pretrained('monologg/koelectra-base-v3-discriminator')\n",
    "model = ElectraModel.from_pretrained('monologg/koelectra-base-v3-discriminator')\n",
    "\n",
    "# 텍스트의 임베딩을 얻는 함수\n",
    "def get_koelectra_embeddings(text):\n",
    "    inputs = tokenizer(text, return_tensors='pt', truncation=True, padding=True)\n",
    "    outputs = model(**inputs)\n",
    "    return outputs.last_hidden_state.mean(dim=1).squeeze().detach().numpy()\n",
    "\n",
    "\n",
    "# 각 처리된 피처에 대해 함수를 적용합니다.\n",
    "df['koelectra_embedding'] = df['processed_feature_str'].apply(get_koelectra_embeddings)\n",
    "\n",
    "# 시각화를 위해 DataFrame으로 변환합니다.\n",
    "koelectra_embeddings_df = pd.DataFrame(df['koelectra_embedding'].tolist())"
   ]
  }
 ],
 "metadata": {
  "kernelspec": {
   "display_name": "myenv",
   "language": "python",
   "name": "python3"
  },
  "language_info": {
   "codemirror_mode": {
    "name": "ipython",
    "version": 3
   },
   "file_extension": ".py",
   "mimetype": "text/x-python",
   "name": "python",
   "nbconvert_exporter": "python",
   "pygments_lexer": "ipython3",
   "version": "3.11.9"
  }
 },
 "nbformat": 4,
 "nbformat_minor": 2
}
