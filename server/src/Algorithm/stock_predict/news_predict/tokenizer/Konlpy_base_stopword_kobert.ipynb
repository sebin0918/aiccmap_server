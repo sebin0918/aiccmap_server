{
 "cells": [
  {
   "cell_type": "code",
   "execution_count": null,
   "id": "ee22214f-9fb1-46e5-a22d-f6f8e9d27e07",
   "metadata": {},
   "outputs": [],
   "source": [
    "import re\n",
    "import pandas as pd\n",
    "\n",
    "import torch\n",
    "from konlpy.tag import Okt\n",
    "from pykospacing import Spacing\n",
    "from transformers import BertTokenizer, BertModel"
   ]
  },
  {
   "cell_type": "code",
   "execution_count": null,
   "id": "36c9761e-61d5-4de4-984e-970ae8909eb0",
   "metadata": {},
   "outputs": [],
   "source": [
    "spacing = Spacing()\n",
    "\n",
    "def preprocessing(text):\n",
    "    text = text.lower()\n",
    "    text = re.sub(r'[^\\w\\s]', '', text)\n",
    "    text = spacing(text)\n",
    "    return text\n",
    "\n",
    "def get_stopwords():                                                                                                        # 불용어 리스트 가져오기\n",
    "    stopwords = set()\n",
    "    with open('../../../data/stopwords-ko.txt', 'r', encoding='utf-8') as file:\n",
    "        for line in file:\n",
    "            stopwords.add(line.strip())\n",
    "    return stopwords\n",
    "\n",
    "def morph_and_remove_stopwords(text, stopwords):                                                                            # 형태소 분석 및 불용어 제거 함수\n",
    "    text = preprocessing(text)\n",
    "    okt = Okt()                                                                                                             # 형태소 분석기 초기화\n",
    "    morphs = okt.morphs(text)\n",
    "    meaningful_words = [word for word in morphs if word not in stopwords]                                                   # 불용어 제거\n",
    "    return ' '.join(meaningful_words)"
   ]
  },
  {
   "cell_type": "code",
   "execution_count": null,
   "id": "7153617c-b58d-406e-9601-1b3fae44f06e",
   "metadata": {},
   "outputs": [],
   "source": [
    "stopwords = get_stopwords()                                                                                                 # 불용어 리스트 가져오기\n",
    "\n",
    "df = pd.read_csv(r'..\\..\\..\\data\\combined_questions.csv', encoding='cp949')                                                 #분석할 파일 불러오기.\n",
    "\n",
    "df['processed_feature'] = df['feature'].apply(lambda x: morph_and_remove_stopwords(x, stopwords))                           # 데이터프레임의 'feature' 열에 대해 형태소 분석 및 불용어 제거 적용\n",
    "\n",
    "tokenizer = BertTokenizer.from_pretrained('monologg/kobert')                                                                # KoBERT 모델과 토크나이저 로드\n",
    "model = BertModel.from_pretrained('monologg/kobert')"
   ]
  },
  {
   "cell_type": "code",
   "execution_count": null,
   "id": "16112421-f408-4f46-b309-983d574859eb",
   "metadata": {},
   "outputs": [],
   "source": [
    "def get_kobert_embedding(text, tokenizer, model):                                                                           # KoBERT 임베딩 추출 함수\n",
    "    if not text.strip():                                                                                                    # 빈 문자열 확인\n",
    "        return [0] * model.config.hidden_size\n",
    "    \n",
    "    inputs = tokenizer(text, return_tensors='pt', padding=True, truncation=True, max_length=512)                            # 텍스트를 토큰화하고 텐서로 변환\n",
    "    input_ids = inputs['input_ids']\n",
    "    attention_mask = inputs['attention_mask']\n",
    "    token_type_ids = inputs.get('token_type_ids')\n",
    "\n",
    "    with torch.no_grad():                                                                                                   # 모델을 사용하여 입력 텐서를 처리\n",
    "        outputs = model(input_ids, attention_mask=attention_mask, token_type_ids=token_type_ids)\n",
    "\n",
    "    cls_embedding = outputs.last_hidden_state[:, 0, :].squeeze().numpy()                                                    # 첫 번째 토큰 [CLS]의 임베딩을 사용\n",
    "    return cls_embedding\n",
    "\n",
    "df['feature_vector'] = df['processed_feature'].apply(lambda x: get_kobert_embedding(x, tokenizer, model))                   # KoBERT 벡터를 데이터프레임에 추가"
   ]
  }
 ],
 "metadata": {
  "kernelspec": {
   "display_name": "Python (map)",
   "language": "python",
   "name": "map"
  },
  "language_info": {
   "codemirror_mode": {
    "name": "ipython",
    "version": 3
   },
   "file_extension": ".py",
   "mimetype": "text/x-python",
   "name": "python",
   "nbconvert_exporter": "python",
   "pygments_lexer": "ipython3",
   "version": "3.11.9"
  }
 },
 "nbformat": 4,
 "nbformat_minor": 5
}
