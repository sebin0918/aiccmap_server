{
 "cells": [
  {
   "cell_type": "code",
   "execution_count": null,
   "id": "6ebb3856-078d-48dd-a191-731310cfee70",
   "metadata": {},
   "outputs": [],
   "source": [
    "# 라이브러리 불러오기 및 함수화\n",
    "import re\n",
    "import numpy as np\n",
    "import pandas as pd\n",
    "\n",
    "from konlpy.tag import Komoran\n",
    "from pykospacing import Spacing\n",
    "from gensim.models import Word2Vec\n",
    "\n",
    "komoran = Komoran()\n",
    "spacing = Spacing()"
   ]
  },
  {
   "cell_type": "code",
   "execution_count": null,
   "id": "60d44c99",
   "metadata": {},
   "outputs": [],
   "source": [
    "def read_data(filename):\n",
    "    with open(filename, 'r', encoding=\"cp949\") as f:\n",
    "        data = [line.split('\\t') for line in f.read().splitlines()]\n",
    "        data = data[1:]\n",
    "    return data\n",
    "\n",
    "analysis_data = pd.read_csv(r'..\\..\\..\\data\\combined_questions.csv', encoding='cp949')\n",
    "\n",
    "# 불용어 리스트 불러오기\n",
    "korean_stopwords_path = '../../../data/stopwords-ko.txt'\n",
    "with open(korean_stopwords_path, encoding='utf8') as f:\n",
    "    stopwords = f.readlines()\n",
    "stopwords = [x.strip() for x in stopwords]"
   ]
  },
  {
   "cell_type": "code",
   "execution_count": null,
   "id": "ba557445",
   "metadata": {},
   "outputs": [],
   "source": [
    "# 문장 전처리\n",
    "def preprocessing(text):\n",
    "    text = text.lower()\n",
    "    text = re.sub(r'[^\\w\\s]', '', text)\n",
    "    text = spacing(text)\n",
    "    return text\n",
    "\n",
    "preprocessing_data = []\n",
    "for data in analysis_data:\n",
    "    data = ''.join(data)\n",
    "    data = preprocessing(data)\n",
    "    preprocessing_data.append(data)\n",
    "    \n",
    "# 형태소 분리\n",
    "komoran_data = []\n",
    "for data in preprocessing_data:\n",
    "    morphs = komoran.morphs(data)\n",
    "    komoran_data.append(morphs)\n",
    "\n",
    "# 불용어를 제거한 토큰 리스트 생성\n",
    "filtered_tokens = []\n",
    "for data in komoran_data:\n",
    "    for token in data:\n",
    "        if token not in stopwords:\n",
    "            filtered_tokens.append(token)            \n",
    "token_df = pd.DataFrame(filtered_tokens)"
   ]
  },
  {
   "cell_type": "code",
   "execution_count": null,
   "id": "0ded98a7",
   "metadata": {},
   "outputs": [],
   "source": [
    "# Word2Vec\n",
    "model = Word2Vec(sentences=token_df[0], vector_size=100, window=4, hs=1, min_count=2, sg=1)\n",
    "\n",
    "def get_document_vector(tokens, model):\n",
    "    word_vectors = [model.wv[token] for token in tokens if token in model.wv]\n",
    "    if not word_vectors:\n",
    "        return np.zeros(model.vector_size)\n",
    "    return np.mean(word_vectors, axis=0)\n",
    "\n",
    "# 문서 벡터화\n",
    "analysis_data_df = pd.DataFrame(analysis_data, columns=[\"text\"])\n",
    "analysis_data_df['vector'] = analysis_data_df['text'].apply(lambda x: get_document_vector(x, model))"
   ]
  }
 ],
 "metadata": {
  "kernelspec": {
   "display_name": "projectMAP",
   "language": "python",
   "name": "projectmap"
  },
  "language_info": {
   "codemirror_mode": {
    "name": "ipython",
    "version": 3
   },
   "file_extension": ".py",
   "mimetype": "text/x-python",
   "name": "python",
   "nbconvert_exporter": "python",
   "pygments_lexer": "ipython3",
   "version": "3.11.9"
  }
 },
 "nbformat": 4,
 "nbformat_minor": 5
}
