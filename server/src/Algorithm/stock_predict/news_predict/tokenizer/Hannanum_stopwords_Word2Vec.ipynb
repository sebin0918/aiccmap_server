{
 "cells": [
  {
   "cell_type": "code",
   "execution_count": 1,
   "id": "f5b95e72",
   "metadata": {},
   "outputs": [],
   "source": [
    "import pandas as pd\n",
    "from konlpy.tag import Hannanum\n",
    "from pykospacing import Spacing\n",
    "from gensim.models import Word2Vec"
   ]
  },
  {
   "cell_type": "code",
   "execution_count": 2,
   "id": "4c38abd7",
   "metadata": {
    "scrolled": true
   },
   "outputs": [],
   "source": [
    "data = pd.read_csv('../../../data/combined_questions.csv', encoding = 'cp949')\n",
    "data = data[:100]\n",
    "# Pykospacing을 통해 전처리 (for문 사용)\n",
    "spacing = Spacing()\n",
    "processed_features = []\n",
    "for feature in data['feature']:\n",
    "    processed_feature = spacing(feature)\n",
    "    processed_features.append(processed_feature)\n",
    "data['feature'] = processed_features"
   ]
  },
  {
   "cell_type": "code",
   "execution_count": 3,
   "id": "82ca9636",
   "metadata": {},
   "outputs": [],
   "source": [
    "# Hannanum 형태소 분석기로 토큰화 (for문 사용)\n",
    "hannanum = Hannanum()\n",
    "tokens = []\n",
    "for feature in data['feature']:\n",
    "    tokenized = hannanum.nouns(feature)\n",
    "    tokens.append(tokenized)\n",
    "data['tokens'] = tokens"
   ]
  },
  {
   "cell_type": "code",
   "execution_count": 4,
   "id": "b2f88805",
   "metadata": {},
   "outputs": [],
   "source": [
    "# 불용어 처리 (for문 사용)\n",
    "with open('../../../data/stopwords-ko.txt', 'r', encoding='utf-8') as file:\n",
    "    stopwords = file.read().splitlines()\n",
    "\n",
    "filtered_tokens = []\n",
    "for token_list in data['tokens']:\n",
    "    filtered = [word for word in token_list if word not in stopwords]\n",
    "    filtered_tokens.append(filtered)\n",
    "data['tokens'] = filtered_tokens"
   ]
  },
  {
   "cell_type": "code",
   "execution_count": 6,
   "id": "16eae303",
   "metadata": {},
   "outputs": [],
   "source": [
    "sentences = data['tokens'].tolist()                                                         # Word2Vec으로 벡터화\n",
    "model = Word2Vec(sentences, vector_size=100, window=4, hs=1, min_count=2, sg=1)\n",
    "\n",
    "model.save('Hannanum_word2vec_model.model')                                                 # 모델 저장 (선택 사항)"
   ]
  }
 ],
 "metadata": {
  "kernelspec": {
   "display_name": "Python 3 (ipykernel)",
   "language": "python",
   "name": "python3"
  },
  "language_info": {
   "codemirror_mode": {
    "name": "ipython",
    "version": 3
   },
   "file_extension": ".py",
   "mimetype": "text/x-python",
   "name": "python",
   "nbconvert_exporter": "python",
   "pygments_lexer": "ipython3",
   "version": "3.11.9"
  }
 },
 "nbformat": 4,
 "nbformat_minor": 5
}
