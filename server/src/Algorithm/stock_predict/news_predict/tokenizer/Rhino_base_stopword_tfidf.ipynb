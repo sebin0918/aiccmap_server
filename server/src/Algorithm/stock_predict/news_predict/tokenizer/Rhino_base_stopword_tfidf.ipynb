{
 "cells": [
  {
   "cell_type": "code",
   "execution_count": null,
   "metadata": {},
   "outputs": [],
   "source": [
    "import re\n",
    "import rhinoMorph\n",
    "import pandas as pd\n",
    "from tqdm import tqdm\n",
    "from pykospacing import Spacing\n",
    "from sklearn.feature_extraction.text import TfidfVectorizer\n",
    "\n",
    "tqdm.pandas()                  # tqdm과 pandas 통합\n",
    "\n",
    "rn = rhinoMorph.startRhino()   # Rhino 객체 초기화"
   ]
  },
  {
   "cell_type": "code",
   "execution_count": null,
   "metadata": {},
   "outputs": [],
   "source": [
    "spacing = Spacing()\n",
    "\n",
    "def preprocessing(text):\n",
    "    text = spacing(text)\n",
    "    text = text.lower()\n",
    "    text = re.sub(r'[^\\w\\s]', '', text)\n",
    "    return text\n",
    "\n",
    "# 불용어 리스트 가져오기\n",
    "def get_stopwords():\n",
    "    stopwords = set()\n",
    "    with open('../../../data/stopwords-ko.txt', 'r', encoding='utf-8') as file:\n",
    "        for line in file:\n",
    "            stopwords.add(line.strip())\n",
    "    return stopwords\n",
    "\n",
    "# 형태소 분석 및 불용어 제거 함수\n",
    "def morph_and_remove_stopwords(text, stopwords):\n",
    "    text = preprocessing(text)\n",
    "    morphs = rhinoMorph.onlyMorph_list(rn, text)\n",
    "    meaningful_words = [word for word in morphs if word not in stopwords]\n",
    "    return meaningful_words\n"
   ]
  },
  {
   "cell_type": "code",
   "execution_count": null,
   "metadata": {},
   "outputs": [],
   "source": [
    "# 불용어 리스트 가져오기\n",
    "stopwords = get_stopwords()\n",
    "\n",
    "df = pd.read_csv(r'..\\..\\..\\data\\combined_questions.csv', encoding='cp949')\n",
    "\n",
    "# 데이터프레임의 'feature' 열에 대해 형태소 분석 및 불용어 제거 적용\n",
    "df['processed_feature'] = df['feature'].apply(lambda x: morph_and_remove_stopwords(x, stopwords))"
   ]
  },
  {
   "cell_type": "code",
   "execution_count": null,
   "metadata": {},
   "outputs": [],
   "source": [
    "# 리스트를 문자열로 변환\n",
    "df['processed_feature_str'] = df['processed_feature'].apply(lambda x: ' '.join(x))\n",
    "\n",
    "# TF-IDF 벡터화 적용\n",
    "vectorizer = TfidfVectorizer()\n",
    "X = vectorizer.fit_transform(df['processed_feature_str'])\n",
    "\n",
    "# 데이터프레임으로 변환\n",
    "tfidf_df = pd.DataFrame(X.toarray(), columns=vectorizer.get_feature_names_out())"
   ]
  },
  {
   "cell_type": "code",
   "execution_count": null,
   "metadata": {},
   "outputs": [],
   "source": [
    "# 각 문서에서 상위 TF-IDF 값을 가지는 단어 추출하여 새로운 데이터프레임 생성\n",
    "top_n = 5  # 상위 n개 단어\n",
    "top_tfidf_list = []\n",
    "\n",
    "for i in range(tfidf_df.shape[0]):\n",
    "    sorted_indices = tfidf_df.iloc[i].sort_values(ascending=False).index[:top_n]\n",
    "    sorted_values = tfidf_df.iloc[i][sorted_indices]\n",
    "    top_tfidf_dict = {f'term_{j+1}': sorted_indices[j] for j in range(top_n)}\n",
    "    top_tfidf_dict.update({f'tfidf_{j+1}': sorted_values.values[j] for j in range(top_n)})\n",
    "    top_tfidf_list.append(top_tfidf_dict)\n",
    "\n",
    "# 상위 TF-IDF 값을 가지는 단어와 값을 포함한 데이터프레임 생성\n",
    "top_tfidf_df = pd.DataFrame(top_tfidf_list)"
   ]
  }
 ],
 "metadata": {
  "kernelspec": {
   "display_name": "myenv",
   "language": "python",
   "name": "python3"
  },
  "language_info": {
   "codemirror_mode": {
    "name": "ipython",
    "version": 3
   },
   "file_extension": ".py",
   "mimetype": "text/x-python",
   "name": "python",
   "nbconvert_exporter": "python",
   "pygments_lexer": "ipython3",
   "version": "3.11.9"
  }
 },
 "nbformat": 4,
 "nbformat_minor": 2
}
