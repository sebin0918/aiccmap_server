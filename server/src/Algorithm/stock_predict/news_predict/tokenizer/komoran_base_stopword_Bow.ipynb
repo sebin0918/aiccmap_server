{
 "cells": [
  {
   "cell_type": "code",
   "execution_count": 1,
   "id": "ea1cfb82-85f8-4fb7-a667-bd731f425213",
   "metadata": {},
   "outputs": [],
   "source": [
    "# 라이브러리 불러오기 및 함수화\n",
    "import re\n",
    "import pandas as pd\n",
    "\n",
    "from konlpy.tag import Komoran\n",
    "from pykospacing import Spacing\n",
    "from sklearn.feature_extraction.text import CountVectorizer\n",
    "\n",
    "komoran = Komoran()\n",
    "spacing = Spacing()"
   ]
  },
  {
   "cell_type": "code",
   "execution_count": 4,
   "id": "91096f02-9fdf-41da-9dd0-8830f1c56863",
   "metadata": {},
   "outputs": [],
   "source": [
    "df = pd.read_csv(r'..\\..\\..\\data\\combined_questions.csv', encoding='cp949')\n",
    "# df = df[:][0:100]\n",
    "\n",
    "# 불용어 리스트 가져오기\n",
    "def get_stopwords():\n",
    "    stopwords = set()\n",
    "    with open('../../../data/stopwords-ko.txt', 'r', encoding='utf-8') as file:\n",
    "        for line in file:\n",
    "            stopwords.add(line.strip())\n",
    "    return stopwords\n",
    "\n",
    "# 문장 전처리 함수\n",
    "def preprocessing(text):\n",
    "    text = spacing(text)\n",
    "    text = text.lower()\n",
    "    text = re.sub(r'[^\\w\\s]', '', text)\n",
    "    return text\n",
    "\n",
    "# 형태소 분석 및 불용어 제거 함수\n",
    "def morph_and_remove_stopwords(text, stopwords):\n",
    "    text = preprocessing(text)\n",
    "    morphs = komoran.morphs(text)\n",
    "    meaningful_words = [word for word in morphs if word not in stopwords]\n",
    "    return meaningful_words"
   ]
  },
  {
   "cell_type": "code",
   "execution_count": 5,
   "id": "9786d0ec-c2e7-4f5b-9acf-517a4462ace7",
   "metadata": {},
   "outputs": [],
   "source": [
    "# 불용어 리스트 가져오기\n",
    "stopwords = get_stopwords()\n",
    "\n",
    "# 데이터프레임의 'feature' 열에 대해 형태소 분석 및 불용어 제거 적용\n",
    "df['processed_feature'] = df['feature'].apply(lambda x: morph_and_remove_stopwords(x, stopwords))\n",
    "\n",
    "# processed_feature를 문자열로 변환\n",
    "df['processed_feature_str'] = df['processed_feature'].apply(lambda x: ' '.join(x))\n",
    "\n",
    "# CountVectorizer를 사용하여 BoW 벡터화\n",
    "vectorizer = CountVectorizer()\n",
    "X = vectorizer.fit_transform(df['processed_feature_str'])\n",
    "\n",
    "# BoW 결과를 데이터프레임으로 변환\n",
    "bow_df = pd.DataFrame(X.toarray(), columns=vectorizer.get_feature_names_out())\n",
    "\n",
    "# 원래 데이터프레임과 BoW 데이터프레임을 병합\n",
    "df_bow = pd.concat([df, bow_df], axis=1)"
   ]
  }
 ],
 "metadata": {
  "kernelspec": {
   "display_name": "projectM3",
   "language": "python",
   "name": "python3"
  },
  "language_info": {
   "codemirror_mode": {
    "name": "ipython",
    "version": 3
   },
   "file_extension": ".py",
   "mimetype": "text/x-python",
   "name": "python",
   "nbconvert_exporter": "python",
   "pygments_lexer": "ipython3",
   "version": "3.11.9"
  }
 },
 "nbformat": 4,
 "nbformat_minor": 5
}
