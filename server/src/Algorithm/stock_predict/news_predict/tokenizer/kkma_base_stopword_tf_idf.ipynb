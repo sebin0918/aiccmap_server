{
 "cells": [
  {
   "cell_type": "code",
   "execution_count": null,
   "id": "ee22214f-9fb1-46e5-a22d-f6f8e9d27e07",
   "metadata": {},
   "outputs": [],
   "source": [
    "import re\n",
    "import pandas as pd\n",
    "from pykospacing import Spacing\n",
    "\n",
    "from konlpy.tag import Kkma  \n",
    "from sklearn.feature_extraction.text import TfidfVectorizer"
   ]
  },
  {
   "cell_type": "code",
   "execution_count": null,
   "id": "36c9761e-61d5-4de4-984e-970ae8909eb0",
   "metadata": {},
   "outputs": [],
   "source": [
    "spacing = Spacing()\n",
    "\n",
    "def preprocessing(text): \n",
    "    return text\n",
    "\n",
    "def get_stopwords():                                                                                                \n",
    "    stopwords = set()\n",
    "    with open('../../../data/stopwords-ko.txt', 'r', encoding='utf-8') as file:\n",
    "        for line in file:\n",
    "            stopwords.add(line.strip())\n",
    "    return stopwords\n",
    "\n",
    "def morph_and_remove_stopwords(text, stopwords):                                                                   # 형태소 분석 및 불용어 제거 함수\n",
    "    text = preprocessing(text)                                                                                     \n",
    "    kkma = Kkma()                                                                                                  # Kkma 형태소 분석기 초기화\n",
    "    morphs = kkma.morphs(text)\n",
    "    meaningful_words = [word for word in morphs if word not in stopwords]                                          #  불용어 제거\n",
    "    return meaningful_words"
   ]
  },
  {
   "cell_type": "code",
   "execution_count": null,
   "id": "7153617c-b58d-406e-9601-1b3fae44f06e",
   "metadata": {},
   "outputs": [],
   "source": [
    "stopwords = get_stopwords()                                                                         \n",
    "\n",
    "df = pd.read_csv(r'..\\..\\..\\data\\combined_questions.csv', encoding='cp949')\n",
    "df['processed_feature'] = df['feature'].apply(lambda x: ' '.join(morph_and_remove_stopwords(x, stopwords)))        # 'feature' 열에 대해 형태소 분석 및 불용어 제거\n",
    "\n",
    "vectorizer = TfidfVectorizer()                                                                                     # TfidfVectorizer를 사용하여 TF-IDF 모델 생성\n",
    "X = vectorizer.fit_transform(df['processed_feature'])                                                              # 각 문장을 벡터화\n",
    "\n",
    "tfidf_df = pd.DataFrame(X.toarray(), columns=vectorizer.get_feature_names_out())                                   # 벡터를 데이터프레임으로 변환\n",
    "df_tfidf = pd.concat([df, tfidf_df], axis=1)                                                                       # 원본 데이터프레임에 벡터화된 특성 추가"
   ]
  }
 ],
 "metadata": {
  "kernelspec": {
   "display_name": "map_ai",
   "language": "python",
   "name": "python3"
  },
  "language_info": {
   "codemirror_mode": {
    "name": "ipython",
    "version": 3
   },
   "file_extension": ".py",
   "mimetype": "text/x-python",
   "name": "python",
   "nbconvert_exporter": "python",
   "pygments_lexer": "ipython3",
   "version": "3.11.9"
  }
 },
 "nbformat": 4,
 "nbformat_minor": 5
}
