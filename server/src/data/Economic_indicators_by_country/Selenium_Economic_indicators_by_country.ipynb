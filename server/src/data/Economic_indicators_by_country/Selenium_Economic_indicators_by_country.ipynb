{
 "cells": [
  {
   "cell_type": "code",
   "execution_count": 1,
   "id": "cc2f4548",
   "metadata": {},
   "outputs": [],
   "source": [
    "import time\n",
    "import pandas as pd\n",
    "from tqdm import tqdm"
   ]
  },
  {
   "cell_type": "code",
   "execution_count": 2,
   "id": "9795f809",
   "metadata": {},
   "outputs": [],
   "source": [
    "from selenium import webdriver\n",
    "from selenium.webdriver.common.by import By\n",
    "from selenium.webdriver.common.keys import Keys\n",
    "from selenium.webdriver.support.ui import WebDriverWait\n",
    "from selenium.webdriver.support import expected_conditions as EC\n",
    "from selenium.webdriver.chrome.options import Options as ChromeOptions\n",
    "from selenium.common.exceptions import StaleElementReferenceException, TimeoutException"
   ]
  },
  {
   "cell_type": "code",
   "execution_count": 3,
   "id": "947fe33d",
   "metadata": {},
   "outputs": [],
   "source": [
    "def df_market_influence(driver):\n",
    "    df = pd.DataFrame(columns=['발표날짜', '발표'])\n",
    "    time.sleep(10)\n",
    "    for i in range(100, 0, -1):  # 반복 범위 수정\n",
    "        try:\n",
    "            data_xpath = f'/html/body/div/div/div/div/div/div/div/div/div/div/div/div/div/table/tbody/tr[{i}]/td[1]'\n",
    "            data_element = WebDriverWait(driver, 0.5).until(EC.presence_of_element_located((By.XPATH, data_xpath)))\n",
    "            data_parts = data_element.text.split('.')[:2]\n",
    "            formatted_data = '.'.join(data_parts)\n",
    "            index_xpath = f'/html/body/div/div/div/div/div/div/div/div/div/div/div/div/div/table/tbody/tr[{i}]/td[2]'\n",
    "            index_element = WebDriverWait(driver, 0.5).until(EC.presence_of_element_located((By.XPATH, index_xpath)))\n",
    "            index_text = index_element.text\n",
    "            df.loc[100-i] = [formatted_data, index_text]\n",
    "        except Exception as e:\n",
    "            pass\n",
    "    return df"
   ]
  },
  {
   "cell_type": "code",
   "execution_count": 4,
   "id": "74e322a6",
   "metadata": {},
   "outputs": [],
   "source": [
    "def find_economic_indicator(driver, save_info_dict):\n",
    "    time.sleep(10)\n",
    "    for i in range(1, 30):\n",
    "        try:\n",
    "            market_influence_xpath = f'/html/body/div/div/div/div/div/div/div/div/div/div/ul/li[{i}]/div/div/div[2]/dl/dd[3]'\n",
    "            market_influence = WebDriverWait(driver, 1).until(\n",
    "                EC.presence_of_element_located((By.XPATH, market_influence_xpath))\n",
    "            )\n",
    "\n",
    "            if market_influence.text in [\"높음\", \"매우 높음\"]:\n",
    "                save_info_list = []\n",
    "                economic_indicator_xpath = f'/html/body/div/div/div/div/div/div/div/div/div/div/ul/li[{i}]/div/div/div/a'\n",
    "                economic_indicator_name = WebDriverWait(driver, 1).until(\n",
    "                    EC.element_to_be_clickable((By.XPATH, economic_indicator_xpath))\n",
    "                )\n",
    "                save_info_list.append(market_influence.text)\n",
    "                print(economic_indicator_name.text)\n",
    "                economic_text = economic_indicator_name.text\n",
    "                economic_indicator_name.click()\n",
    "\n",
    "                market_data = df_market_influence(driver)\n",
    "                save_info_list.append(market_data)\n",
    "                \n",
    "                # 시트의 첫 번째 열에 키 값을 넣어줌\n",
    "                save_info_dict[economic_text] = save_info_list\n",
    "                driver.back()\n",
    "                time.sleep(10)\n",
    "        except:\n",
    "            pass"
   ]
  },
  {
   "cell_type": "code",
   "execution_count": 5,
   "id": "2474c17a",
   "metadata": {},
   "outputs": [],
   "source": [
    "def scrape_economic_indicators(nation):\n",
    "    driver = webdriver.Chrome()\n",
    "    driver.get('https://www.naver.com/')\n",
    "    save_info_dict = {}  # save_info_dict 초기화\n",
    "    \n",
    "    search_xpath = '/html/body/div[2]/div[1]/div/div[3]/div/div/form/fieldset/div/input'\n",
    "    search = WebDriverWait(driver, 5).until(\n",
    "                EC.element_to_be_clickable((By.XPATH, search_xpath))\n",
    "            )\n",
    "    search.send_keys(f\"{nation} 경제지표\")\n",
    "    search.send_keys(Keys.RETURN)\n",
    "    for i in range(1, 21):\n",
    "        try:\n",
    "            large_category_xpath = f'/html/body/div/div/div/div/div/div/div/div/div/div/div/div/ul/li[{i}]/a/span'\n",
    "            Large_category = WebDriverWait(driver, 1).until(\n",
    "                EC.element_to_be_clickable((By.XPATH, large_category_xpath))\n",
    "            )\n",
    "            \n",
    "            driver.execute_script(\"arguments[0].click();\", Large_category)\n",
    "            \n",
    "            find_economic_indicator(driver, save_info_dict)  # save_info_dict를 인자로 전달\n",
    "        except Exception as e:\n",
    "            try:\n",
    "                next_button_xpath = '/html/body/div[3]/div[2]/div[1]/div[1]/div[3]/div[2]/div/div/div/div[2]/a[2]'\n",
    "                next_button = WebDriverWait(driver, 1).until(\n",
    "                    EC.element_to_be_clickable((By.XPATH, next_button_xpath))\n",
    "                )\n",
    "                \n",
    "                driver.execute_script(\"arguments[0].click();\", next_button)\n",
    "                \n",
    "                Large_category = WebDriverWait(driver, 1).until(\n",
    "                    EC.element_to_be_clickable((By.XPATH, large_category_xpath))\n",
    "                )\n",
    "                \n",
    "                driver.execute_script(\"arguments[0].click();\", Large_category)\n",
    "                \n",
    "                find_economic_indicator(driver, save_info_dict)  # save_info_dict를 인자로 전달\n",
    "            except:\n",
    "                pass\n",
    "\n",
    "    driver.quit()\n",
    "\n",
    "    with pd.ExcelWriter(f'{nation} economic_indicators.xlsx') as writer:\n",
    "        for key, value in save_info_dict.items():\n",
    "            # 시트의 첫 번째 열에 키 값을 씀\n",
    "            df = value[1]\n",
    "            df.index.name = key\n",
    "            # Excel 파일에 쓰기\n",
    "            df.to_excel(writer, sheet_name=key)"
   ]
  },
  {
   "cell_type": "code",
   "execution_count": 6,
   "id": "2b48cc59",
   "metadata": {},
   "outputs": [],
   "source": [
    "# scrape_economic_indicators('미국')"
   ]
  },
  {
   "cell_type": "code",
   "execution_count": 8,
   "id": "7c0223e2",
   "metadata": {},
   "outputs": [
    {
     "name": "stderr",
     "output_type": "stream",
     "text": [
      "\r",
      "Scraping economic indicators:   0%|                                                              | 0/1 [00:00<?, ?it/s]"
     ]
    },
    {
     "name": "stdout",
     "output_type": "stream",
     "text": [
      "독일 국내총생산(GDP) 전분기 대비\n",
      "독일 국내총생산(GDP) 전년대비\n",
      "독일 생산자물가지수(PPI) 전월대비\n",
      "독일 소비자물가지수(CPI) 전월대비\n",
      "독일 소비자물가조화지수(HICP) 전년대비\n",
      "독일 무역수지\n",
      "독일 Ifo 기업체감지수\n",
      "독일 기대평가지수\n",
      "독일 현행평가지수\n",
      "독일 ZEW 경기동향지수\n",
      "독일 ZEW 경제전망지수\n",
      "독일 실업률\n",
      "독일 실업 변동\n",
      "독일 산업생산 전년대비\n",
      "독일 산업생산 전월대비\n",
      "독일 공장수주 전월대비\n"
     ]
    },
    {
     "name": "stderr",
     "output_type": "stream",
     "text": [
      "Scraping economic indicators: 100%|████████████████████████████████████████████████████| 1/1 [17:12<00:00, 1032.26s/it]\n"
     ]
    }
   ],
   "source": [
    "# '미국','한국','중국', '일본', '유로', '인도','대만','홍콩','러시아', '영국', '프랑스', '사우디아라비아', '이스라엘', '캐나다', '호주'\n",
    "nation_list = ['독일']\n",
    "for nation in tqdm(nation_list, desc=\"Scraping economic indicators\"):\n",
    "    scrape_economic_indicators(nation)"
   ]
  },
  {
   "cell_type": "code",
   "execution_count": null,
   "id": "a1ad6869",
   "metadata": {},
   "outputs": [],
   "source": []
  }
 ],
 "metadata": {
  "kernelspec": {
   "display_name": "Python 3 (ipykernel)",
   "language": "python",
   "name": "python3"
  },
  "language_info": {
   "codemirror_mode": {
    "name": "ipython",
    "version": 3
   },
   "file_extension": ".py",
   "mimetype": "text/x-python",
   "name": "python",
   "nbconvert_exporter": "python",
   "pygments_lexer": "ipython3",
   "version": "3.9.12"
  }
 },
 "nbformat": 4,
 "nbformat_minor": 5
}
